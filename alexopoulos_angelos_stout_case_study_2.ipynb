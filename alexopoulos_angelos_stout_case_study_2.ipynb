{
  "nbformat": 4,
  "nbformat_minor": 0,
  "metadata": {
    "colab": {
      "provenance": [],
      "toc_visible": true
    },
    "kernelspec": {
      "name": "python3",
      "display_name": "Python 3"
    },
    "language_info": {
      "name": "python"
    }
  },
  "cells": [
    {
      "cell_type": "markdown",
      "source": [
        "# Case Study no.2\n",
        "Alexopoulos Angelos\n"
      ],
      "metadata": {
        "id": "AfuiJ1bm-82W"
      }
    },
    {
      "cell_type": "markdown",
      "source": [
        "## 1. Import Libraries\n",
        "---"
      ],
      "metadata": {
        "id": "c9arcojMd-J0"
      }
    },
    {
      "cell_type": "code",
      "execution_count": 95,
      "metadata": {
        "id": "Agt1Tebl-cWF"
      },
      "outputs": [],
      "source": [
        "import pandas as pd\n",
        "import numpy as np\n",
        "import seaborn as sns\n",
        "import matplotlib.pyplot as plt\n",
        "import missingno as msno\n",
        "import plotly.express as px\n",
        "import itertools\n",
        "import operator"
      ]
    },
    {
      "cell_type": "markdown",
      "source": [
        "## 2.Import of Dataset\n",
        "---"
      ],
      "metadata": {
        "id": "1L-DpUtPDQbR"
      }
    },
    {
      "cell_type": "markdown",
      "source": [
        "#### 2.1 Data Loading"
      ],
      "metadata": {
        "id": "gAlpmBjteGdd"
      }
    },
    {
      "cell_type": "code",
      "source": [
        "df = pd.read_csv('casestudy.csv', index_col = 0)\n"
      ],
      "metadata": {
        "id": "ss6095Oc_DGG"
      },
      "execution_count": 96,
      "outputs": []
    },
    {
      "cell_type": "markdown",
      "source": [
        "#### 2.2 Data Description"
      ],
      "metadata": {
        "id": "FKzmAx13eLVl"
      }
    },
    {
      "cell_type": "code",
      "source": [
        "print(\"The size of the dataset is\", df.shape )\n",
        "df.describe()"
      ],
      "metadata": {
        "colab": {
          "base_uri": "https://localhost:8080/",
          "height": 319
        },
        "id": "pCu09EMy_U_x",
        "outputId": "89a2e90d-860d-41f3-b38f-e91f44641ffc"
      },
      "execution_count": 97,
      "outputs": [
        {
          "output_type": "stream",
          "name": "stdout",
          "text": [
            "The size of the dataset is (685927, 3)\n"
          ]
        },
        {
          "output_type": "execute_result",
          "data": {
            "text/plain": [
              "         net_revenue           year\n",
              "count  685927.000000  685927.000000\n",
              "mean      125.647755    2016.027252\n",
              "std        71.854528       0.837203\n",
              "min         1.000000    2015.000000\n",
              "25%        63.510000    2015.000000\n",
              "50%       125.730000    2016.000000\n",
              "75%       187.820000    2017.000000\n",
              "max       250.000000    2017.000000"
            ],
            "text/html": [
              "\n",
              "  <div id=\"df-60786848-4b7a-4369-94f3-3291235a94f6\">\n",
              "    <div class=\"colab-df-container\">\n",
              "      <div>\n",
              "<style scoped>\n",
              "    .dataframe tbody tr th:only-of-type {\n",
              "        vertical-align: middle;\n",
              "    }\n",
              "\n",
              "    .dataframe tbody tr th {\n",
              "        vertical-align: top;\n",
              "    }\n",
              "\n",
              "    .dataframe thead th {\n",
              "        text-align: right;\n",
              "    }\n",
              "</style>\n",
              "<table border=\"1\" class=\"dataframe\">\n",
              "  <thead>\n",
              "    <tr style=\"text-align: right;\">\n",
              "      <th></th>\n",
              "      <th>net_revenue</th>\n",
              "      <th>year</th>\n",
              "    </tr>\n",
              "  </thead>\n",
              "  <tbody>\n",
              "    <tr>\n",
              "      <th>count</th>\n",
              "      <td>685927.000000</td>\n",
              "      <td>685927.000000</td>\n",
              "    </tr>\n",
              "    <tr>\n",
              "      <th>mean</th>\n",
              "      <td>125.647755</td>\n",
              "      <td>2016.027252</td>\n",
              "    </tr>\n",
              "    <tr>\n",
              "      <th>std</th>\n",
              "      <td>71.854528</td>\n",
              "      <td>0.837203</td>\n",
              "    </tr>\n",
              "    <tr>\n",
              "      <th>min</th>\n",
              "      <td>1.000000</td>\n",
              "      <td>2015.000000</td>\n",
              "    </tr>\n",
              "    <tr>\n",
              "      <th>25%</th>\n",
              "      <td>63.510000</td>\n",
              "      <td>2015.000000</td>\n",
              "    </tr>\n",
              "    <tr>\n",
              "      <th>50%</th>\n",
              "      <td>125.730000</td>\n",
              "      <td>2016.000000</td>\n",
              "    </tr>\n",
              "    <tr>\n",
              "      <th>75%</th>\n",
              "      <td>187.820000</td>\n",
              "      <td>2017.000000</td>\n",
              "    </tr>\n",
              "    <tr>\n",
              "      <th>max</th>\n",
              "      <td>250.000000</td>\n",
              "      <td>2017.000000</td>\n",
              "    </tr>\n",
              "  </tbody>\n",
              "</table>\n",
              "</div>\n",
              "      <button class=\"colab-df-convert\" onclick=\"convertToInteractive('df-60786848-4b7a-4369-94f3-3291235a94f6')\"\n",
              "              title=\"Convert this dataframe to an interactive table.\"\n",
              "              style=\"display:none;\">\n",
              "        \n",
              "  <svg xmlns=\"http://www.w3.org/2000/svg\" height=\"24px\"viewBox=\"0 0 24 24\"\n",
              "       width=\"24px\">\n",
              "    <path d=\"M0 0h24v24H0V0z\" fill=\"none\"/>\n",
              "    <path d=\"M18.56 5.44l.94 2.06.94-2.06 2.06-.94-2.06-.94-.94-2.06-.94 2.06-2.06.94zm-11 1L8.5 8.5l.94-2.06 2.06-.94-2.06-.94L8.5 2.5l-.94 2.06-2.06.94zm10 10l.94 2.06.94-2.06 2.06-.94-2.06-.94-.94-2.06-.94 2.06-2.06.94z\"/><path d=\"M17.41 7.96l-1.37-1.37c-.4-.4-.92-.59-1.43-.59-.52 0-1.04.2-1.43.59L10.3 9.45l-7.72 7.72c-.78.78-.78 2.05 0 2.83L4 21.41c.39.39.9.59 1.41.59.51 0 1.02-.2 1.41-.59l7.78-7.78 2.81-2.81c.8-.78.8-2.07 0-2.86zM5.41 20L4 18.59l7.72-7.72 1.47 1.35L5.41 20z\"/>\n",
              "  </svg>\n",
              "      </button>\n",
              "      \n",
              "  <style>\n",
              "    .colab-df-container {\n",
              "      display:flex;\n",
              "      flex-wrap:wrap;\n",
              "      gap: 12px;\n",
              "    }\n",
              "\n",
              "    .colab-df-convert {\n",
              "      background-color: #E8F0FE;\n",
              "      border: none;\n",
              "      border-radius: 50%;\n",
              "      cursor: pointer;\n",
              "      display: none;\n",
              "      fill: #1967D2;\n",
              "      height: 32px;\n",
              "      padding: 0 0 0 0;\n",
              "      width: 32px;\n",
              "    }\n",
              "\n",
              "    .colab-df-convert:hover {\n",
              "      background-color: #E2EBFA;\n",
              "      box-shadow: 0px 1px 2px rgba(60, 64, 67, 0.3), 0px 1px 3px 1px rgba(60, 64, 67, 0.15);\n",
              "      fill: #174EA6;\n",
              "    }\n",
              "\n",
              "    [theme=dark] .colab-df-convert {\n",
              "      background-color: #3B4455;\n",
              "      fill: #D2E3FC;\n",
              "    }\n",
              "\n",
              "    [theme=dark] .colab-df-convert:hover {\n",
              "      background-color: #434B5C;\n",
              "      box-shadow: 0px 1px 3px 1px rgba(0, 0, 0, 0.15);\n",
              "      filter: drop-shadow(0px 1px 2px rgba(0, 0, 0, 0.3));\n",
              "      fill: #FFFFFF;\n",
              "    }\n",
              "  </style>\n",
              "\n",
              "      <script>\n",
              "        const buttonEl =\n",
              "          document.querySelector('#df-60786848-4b7a-4369-94f3-3291235a94f6 button.colab-df-convert');\n",
              "        buttonEl.style.display =\n",
              "          google.colab.kernel.accessAllowed ? 'block' : 'none';\n",
              "\n",
              "        async function convertToInteractive(key) {\n",
              "          const element = document.querySelector('#df-60786848-4b7a-4369-94f3-3291235a94f6');\n",
              "          const dataTable =\n",
              "            await google.colab.kernel.invokeFunction('convertToInteractive',\n",
              "                                                     [key], {});\n",
              "          if (!dataTable) return;\n",
              "\n",
              "          const docLinkHtml = 'Like what you see? Visit the ' +\n",
              "            '<a target=\"_blank\" href=https://colab.research.google.com/notebooks/data_table.ipynb>data table notebook</a>'\n",
              "            + ' to learn more about interactive tables.';\n",
              "          element.innerHTML = '';\n",
              "          dataTable['output_type'] = 'display_data';\n",
              "          await google.colab.output.renderOutput(dataTable, element);\n",
              "          const docLink = document.createElement('div');\n",
              "          docLink.innerHTML = docLinkHtml;\n",
              "          element.appendChild(docLink);\n",
              "        }\n",
              "      </script>\n",
              "    </div>\n",
              "  </div>\n",
              "  "
            ]
          },
          "metadata": {},
          "execution_count": 97
        }
      ]
    },
    {
      "cell_type": "markdown",
      "source": [
        "#### 2.3 Check for null valuess"
      ],
      "metadata": {
        "id": "Wk329hqueYaO"
      }
    },
    {
      "cell_type": "code",
      "source": [
        "null = df.columns[df.isnull().any()].tolist()\n",
        "\n",
        "print(\"The columns that have null values are\",len(null), \"and are\", null)"
      ],
      "metadata": {
        "colab": {
          "base_uri": "https://localhost:8080/"
        },
        "id": "B3p_R2RN_4C2",
        "outputId": "522b2657-dfee-4e3d-87f7-fd61f67c621f"
      },
      "execution_count": 98,
      "outputs": [
        {
          "output_type": "stream",
          "name": "stdout",
          "text": [
            "The columns that have null values are 0 and are []\n"
          ]
        }
      ]
    },
    {
      "cell_type": "code",
      "source": [
        "df.info()"
      ],
      "metadata": {
        "colab": {
          "base_uri": "https://localhost:8080/"
        },
        "id": "7z7j2K63AATG",
        "outputId": "6130af01-6b3f-4f03-9d2b-0db71186e820"
      },
      "execution_count": 99,
      "outputs": [
        {
          "output_type": "stream",
          "name": "stdout",
          "text": [
            "<class 'pandas.core.frame.DataFrame'>\n",
            "Int64Index: 685927 entries, 0 to 685926\n",
            "Data columns (total 3 columns):\n",
            " #   Column          Non-Null Count   Dtype  \n",
            "---  ------          --------------   -----  \n",
            " 0   customer_email  685927 non-null  object \n",
            " 1   net_revenue     685927 non-null  float64\n",
            " 2   year            685927 non-null  int64  \n",
            "dtypes: float64(1), int64(1), object(1)\n",
            "memory usage: 20.9+ MB\n"
          ]
        }
      ]
    },
    {
      "cell_type": "markdown",
      "source": [
        "##3.Result for each year"
      ],
      "metadata": {
        "id": "LOMMS9y3N5Xq"
      }
    },
    {
      "cell_type": "code",
      "source": [
        "groups=df.groupby('year').sum()\n",
        "print(groups)\n"
      ],
      "metadata": {
        "colab": {
          "base_uri": "https://localhost:8080/"
        },
        "id": "YLmV8JUHNn9R",
        "outputId": "71a7dde7-d258-4bee-874d-35dc0f6c97d6"
      },
      "execution_count": 100,
      "outputs": [
        {
          "output_type": "stream",
          "name": "stdout",
          "text": [
            "      net_revenue\n",
            "year             \n",
            "2015  29036749.19\n",
            "2016  25730943.59\n",
            "2017  31417495.03\n"
          ]
        }
      ]
    },
    {
      "cell_type": "code",
      "source": [
        "# for each group, sum the Net_Revenue column and print the total revenue\n",
        "\n",
        "total_revenue = groups['net_revenue'].sum()\n",
        "print(f'Total revenue for : {total_revenue}')"
      ],
      "metadata": {
        "colab": {
          "base_uri": "https://localhost:8080/"
        },
        "id": "z6SZdLwnPNzk",
        "outputId": "f8cace9a-23e6-4b61-835d-d2d57eeac649"
      },
      "execution_count": 101,
      "outputs": [
        {
          "output_type": "stream",
          "name": "stdout",
          "text": [
            "Total revenue for : 86185187.81\n"
          ]
        }
      ]
    },
    {
      "cell_type": "code",
      "source": [
        "def print_results(year, customers_current, revenue_current, revenue_previous, new_customers, per_new_customers, \n",
        "                  new_customer_revenue, per_new_customer_revenue,\n",
        "                  existing_customers, per_existing_customers, exist_curr_revenue,\n",
        "                  exist_prev_revenue, growth_current, lost_customers, revenue_lost, \n",
        "                  customers_previous):\n",
        "  \n",
        "  print('The requested year is ' + str(year) + ' and I have the following results ')\n",
        "  print(' Number of customers for requested  Year:                 ', customers_current)\n",
        "  print(' Number. of customers for requested previous Year:        ', customers_previous)\n",
        "  print(' Number. of new customers:                                ', new_customers)\n",
        "  print(' Percentage of new customers:                             ', per_new_customers)\n",
        "  print(' Number of existing customers from previous Year:        ', existing_customers)\n",
        "  print(' Percentage of Existing Customers from previous Year:     ', per_existing_customers)\n",
        "  print(' Number. of Lost Customers:                               ', lost_customers)\n",
        "  print(' Total Revenue :                                          ', revenue_current)\n",
        "  print(' Total Revenue for previous Year:                         ', revenue_previous)\n",
        "  print(' New Customer Revenue in :                                ', new_customer_revenue)\n",
        "  print(' Percentage of New Customer Revenue:                      ', per_new_customer_revenue)\n",
        "  print(' Total Revenue of Existing Customers :                    ', exist_curr_revenue)\n",
        "  print(' Total Revenue of Existing Customers for previous Year:   ', exist_prev_revenue)\n",
        "  print(' Total Revenue Lost due to Attrition :                    ', revenue_lost)\n",
        "  print(' Existing customer growth :                               ', growth_current)\n",
        "  \n",
        "  return "
      ],
      "metadata": {
        "id": "aBKO6sbTBnF6"
      },
      "execution_count": 102,
      "outputs": []
    },
    {
      "cell_type": "code",
      "source": [
        "#2016\n",
        "year=2016\n",
        "prev_year=2015\n",
        "df_curr_year = df[(df['year'] == year)]\n",
        "df_previous_year = df[(df['year'] == prev_year)]\n",
        "\n",
        "#Total Revenue for current year(2016)\n",
        "net_revenue_total_current = df_curr_year['net_revenue'].sum()\n",
        "\n",
        "#Total Revenue for previous year(2015)\n",
        "net_revenue_total_prev = df_previous_year['net_revenue'].sum()\n",
        "\n",
        "#aggregate unique customers for current year\n",
        "unique_customers_current_list = df_curr_year['customer_email'].unique().tolist()\n",
        "unique_customers_current = len(unique_customers_current_list)\n",
        "\n",
        "#aggregate unique customers for previous year\n",
        "unique_customers_previous_list = df_previous_year['customer_email'].unique().tolist()\n",
        "unique_prev_customers = len(unique_customers_previous_list)\n",
        "\n",
        "\n",
        "# Calculate New Customer Revenue \n",
        "#in order to check new customers i make a joint set for previous/current unique customers\n",
        "#and I keep only the new customers(that are not in the previous customers list)\n",
        "customers_current = set(unique_customers_current_list)  \n",
        "customers_previous = set(unique_customers_previous_list)\n",
        "\n",
        "# check customers in both\n",
        "customers_existing = list(customers_current.intersection(customers_previous))\n",
        "\n",
        "#search for index of customers in both\n",
        "#we assign the new customers to a new list(customers that belong in current and not previous)\n",
        "new_customers_list = ~df_curr_year['customer_email'].isin(customers_existing)\n",
        "new_customers_current = df_curr_year[new_customers_list]\n",
        "\n",
        "#new customers for current year\n",
        "new_customers_list_current = new_customers_current['customer_email'].unique().tolist()\n",
        "new_customers_size = len(new_customers_list_current)\n",
        "\n",
        "new_cust_perc = (new_customers_size / unique_customers_current) * 100.0\n",
        "total_revenue_new_customers_current = new_customers_current['net_revenue'].sum()\n",
        "new_customer_revenue = total_revenue_new_customers_current / net_revenue_total_current\n",
        "# customer growth for current year\n",
        "growth_current = net_revenue_total_current - total_revenue_new_customers_current\n",
        "\n",
        "\n",
        "#customer revenue for current year\n",
        "existing_customers_current_revenue = df_curr_year['customer_email'].isin(customers_existing)\n",
        "existing_customers_current_list = df_curr_year[existing_customers_current_revenue]\n",
        "\n",
        "#customer number for current year\n",
        "current_customers_list = existing_customers_current_list['customer_email'].unique().tolist()\n",
        "current_customers_list_size = len(current_customers_list)\n",
        "\n",
        "per_existing_customers = (current_customers_list_size / unique_customers_current) * 100.0\n",
        "\n",
        "total_revenue_customers_existing = existing_customers_current_list['net_revenue'].sum()\n",
        "  \n",
        "existing_customers_prev_list = df_previous_year['customer_email'].isin(customers_existing)\n",
        "existing_customers_prev_list_df = df_previous_year[existing_customers_prev_list]\n",
        "\n",
        "total_revenue_existing_customers_previous = existing_customers_prev_list_df['net_revenue'].sum()\n",
        "\n",
        "# Lost customer\n",
        "# customer that but do not exist in the current year.\n",
        "customer_difference = list(customers_previous.difference(customers_current))\n",
        "customers_loss = len(customer_difference)\n",
        "\n",
        "\n",
        "#Attrition Loss\n",
        "lost_customers_list = df_previous_year['customer_email'].isin(customer_difference)\n",
        "lost_customers_current = df_previous_year[lost_customers_list]\n",
        "lost_customers_surrent_revenue = lost_customers_current['net_revenue'].sum()\n",
        "\n",
        "print_results(year, unique_customers_current, net_revenue_total_current, net_revenue_total_prev,\n",
        "                unique_prev_customers, new_cust_perc, total_revenue_new_customers_current, \n",
        "                new_customer_revenue, current_customers_list_size,\n",
        "                per_existing_customers, total_revenue_customers_existing, \n",
        "                total_revenue_existing_customers_previous, growth_current, customers_loss,\n",
        "               lost_customers_surrent_revenue, unique_prev_customers)\n",
        " \n",
        "\n",
        "\n",
        " \n",
        " "
      ],
      "metadata": {
        "id": "Vy4lyRnuKJ_V",
        "colab": {
          "base_uri": "https://localhost:8080/"
        },
        "outputId": "d9fb5a62-070c-4a89-c0f7-95fba7eb51f9"
      },
      "execution_count": 103,
      "outputs": [
        {
          "output_type": "stream",
          "name": "stdout",
          "text": [
            "The requested year is 2016 and I have the following results \n",
            " Number of customers for requested  Year:                  204646\n",
            " Number. of customers for requested previous Year:         231294\n",
            " Number. of new customers:                                 231294\n",
            " Percentage of new customers:                              70.8843564008092\n",
            " Number of existing customers from previous Year:         59584\n",
            " Percentage of Existing Customers from previous Year:      29.1156435991908\n",
            " Number. of Lost Customers:                                171710\n",
            " Total Revenue :                                           25730943.59\n",
            " Total Revenue for previous Year:                          29036749.189999994\n",
            " New Customer Revenue in :                                 18245491.01\n",
            " Percentage of New Customer Revenue:                       0.709087521263343\n",
            " Total Revenue of Existing Customers :                     7485452.58\n",
            " Total Revenue of Existing Customers for previous Year:    7465117.12\n",
            " Total Revenue Lost due to Attrition :                     21571632.070000004\n",
            " Existing customer growth :                                7485452.579999998\n"
          ]
        }
      ]
    },
    {
      "cell_type": "code",
      "source": [
        "#2017\n",
        "year=2017\n",
        "prev_year=2016\n",
        "df_curr_year = df[(df['year'] == year)]\n",
        "df_previous_year = df[(df['year'] == prev_year)]\n",
        "\n",
        "#Total Revenue for current year(2016)\n",
        "net_revenue_total_current = df_curr_year['net_revenue'].sum()\n",
        "\n",
        "#Total Revenue for previous year(2015)\n",
        "net_revenue_total_prev = df_previous_year['net_revenue'].sum()\n",
        "\n",
        "#aggregate unique customers for current year\n",
        "unique_customers_current_list = df_curr_year['customer_email'].unique().tolist()\n",
        "unique_customers_current = len(unique_customers_current_list)\n",
        "\n",
        "#aggregate unique customers for previous year\n",
        "unique_customers_previous_list = df_previous_year['customer_email'].unique().tolist()\n",
        "unique_prev_customers = len(unique_customers_previous_list)\n",
        "\n",
        "\n",
        "# Calculate New Customer Revenue \n",
        "#in order to check new customers i make a joint set for previous/current unique customers\n",
        "#and I keep only the new customers(that are not in the previous customers list)\n",
        "customers_current = set(unique_customers_current_list)  \n",
        "customers_previous = set(unique_customers_previous_list)\n",
        "\n",
        "# check customers in both\n",
        "customers_existing = list(customers_current.intersection(customers_previous))\n",
        "\n",
        "#search for index of customers in both\n",
        "#we assign the new customers to a new list(customers that belong in current and not previous)\n",
        "new_customers_list = ~df_curr_year['customer_email'].isin(customers_existing)\n",
        "new_customers_current = df_curr_year[new_customers_list]\n",
        "\n",
        "#new customers for current year\n",
        "new_customers_list_current = new_customers_current['customer_email'].unique().tolist()\n",
        "new_customers_size = len(new_customers_list_current)\n",
        "\n",
        "new_cust_perc = (new_customers_size / unique_customers_current) * 100.0\n",
        "total_revenue_new_customers_current = new_customers_current['net_revenue'].sum()\n",
        "new_customer_revenue = total_revenue_new_customers_current / net_revenue_total_current\n",
        "# customer growth for current year\n",
        "growth_current = net_revenue_total_current - total_revenue_new_customers_current\n",
        "\n",
        "\n",
        "#customer revenue for current year\n",
        "existing_customers_current_revenue = df_curr_year['customer_email'].isin(customers_existing)\n",
        "existing_customers_current_list = df_curr_year[existing_customers_current_revenue]\n",
        "\n",
        "#customer number for current year\n",
        "current_customers_list = existing_customers_current_list['customer_email'].unique().tolist()\n",
        "current_customers_list_size = len(current_customers_list)\n",
        "\n",
        "per_existing_customers = (current_customers_list_size / unique_customers_current) * 100.0\n",
        "\n",
        "total_revenue_customers_existing = existing_customers_current_list['net_revenue'].sum()\n",
        "  \n",
        "existing_customers_prev_list = df_previous_year['customer_email'].isin(customers_existing)\n",
        "existing_customers_prev_list_df = df_previous_year[existing_customers_prev_list]\n",
        "\n",
        "total_revenue_existing_customers_previous = existing_customers_prev_list_df['net_revenue'].sum()\n",
        "\n",
        "# Lost customer\n",
        "# customer that but do not exist in the current year.\n",
        "customer_difference = list(customers_previous.difference(customers_current))\n",
        "customers_loss = len(customer_difference)\n",
        "\n",
        "\n",
        "#Attrition Loss\n",
        "lost_customers_list = df_previous_year['customer_email'].isin(customer_difference)\n",
        "lost_customers_current = df_previous_year[lost_customers_list]\n",
        "lost_customers_surrent_revenue = lost_customers_current['net_revenue'].sum()\n",
        "\n",
        "print_results(year, unique_customers_current, net_revenue_total_current, net_revenue_total_prev,\n",
        "                unique_prev_customers, new_cust_perc, total_revenue_new_customers_current, \n",
        "                new_customer_revenue, current_customers_list_size,\n",
        "                per_existing_customers, total_revenue_customers_existing, \n",
        "                total_revenue_existing_customers_previous, growth_current, customers_loss,\n",
        "               lost_customers_surrent_revenue, unique_prev_customers)\n",
        " \n",
        "\n"
      ],
      "metadata": {
        "colab": {
          "base_uri": "https://localhost:8080/"
        },
        "id": "Eh1THuhftzip",
        "outputId": "b1c24315-ecdb-4bfb-f62a-68d2e64cdad4"
      },
      "execution_count": 104,
      "outputs": [
        {
          "output_type": "stream",
          "name": "stdout",
          "text": [
            "The requested year is 2017 and I have the following results \n",
            " Number of customers for requested  Year:                  249987\n",
            " Number. of customers for requested previous Year:         204646\n",
            " Number. of new customers:                                 204646\n",
            " Percentage of new customers:                              91.61596403012958\n",
            " Number of existing customers from previous Year:         20959\n",
            " Percentage of Existing Customers from previous Year:      8.384035969870434\n",
            " Number. of Lost Customers:                                183687\n",
            " Total Revenue :                                           31417495.030000016\n",
            " Total Revenue for previous Year:                          25730943.59\n",
            " New Customer Revenue in :                                 28776235.039999995\n",
            " Percentage of New Customer Revenue:                       0.9159302806452925\n",
            " Total Revenue of Existing Customers :                     2641259.99\n",
            " Total Revenue of Existing Customers for previous Year:    2620648.65\n",
            " Total Revenue Lost due to Attrition :                     23110294.939999998\n",
            " Existing customer growth :                                2641259.9900000207\n"
          ]
        }
      ]
    },
    {
      "cell_type": "markdown",
      "source": [
        "##4.Visualization "
      ],
      "metadata": {
        "id": "G3VBhgPYudY9"
      }
    },
    {
      "cell_type": "code",
      "source": [
        "#Total Revenue\n",
        "data = {'2015':29036749.19, '2016':25730943.59, '2017':31417495.03}\n",
        "Year = list(data.keys())\n",
        "Values = list(data.values())\n",
        "  \n",
        "fig = plt.figure(figsize = (5, 5))\n",
        " \n",
        "\n",
        "plt.barh(Year, Values, color ='blue',\n",
        "        height = 0.2)\n",
        " \n",
        "plt.xlabel(\"Year\")\n",
        "plt.ylabel(\"Total Revenue\")\n",
        "plt.title(\"Revenue Each Year\")\n",
        "plt.grid(False)\n",
        "plt.show()"
      ],
      "metadata": {
        "id": "xHna-vouf8hV",
        "colab": {
          "base_uri": "https://localhost:8080/",
          "height": 350
        },
        "outputId": "39f36c3b-ce18-4a78-ee3f-c416c8aea19d"
      },
      "execution_count": 105,
      "outputs": [
        {
          "output_type": "display_data",
          "data": {
            "text/plain": [
              "<Figure size 360x360 with 1 Axes>"
            ],
            "image/png": "[encoded data removed]"
          },
          "metadata": {
            "needs_background": "light"
          }
        }
      ]
    },
    {
      "cell_type": "code",
      "source": [
        "# Total Customers per Year\n",
        "data = {'2015': 231294,'2016': 204646,'2017': 249987}\n",
        "x = list(data.keys())\n",
        "y = list(data.values()) \n",
        "fig = plt.figure(figsize = (6, 4))\n",
        "plt.bar(x, y, width=0.3, color='darkred')\n",
        "plt.xlabel(\"Year\")\n",
        "plt.ylabel(\"Total Customers\")\n",
        "plt.title(\"Total Customers\")\n",
        "plt.grid(False)\n",
        "plt.show()"
      ],
      "metadata": {
        "colab": {
          "base_uri": "https://localhost:8080/",
          "height": 295
        },
        "id": "3IewdkKPvf7T",
        "outputId": "73b9a93f-3829-4c5e-bbbf-86e612585120"
      },
      "execution_count": 106,
      "outputs": [
        {
          "output_type": "display_data",
          "data": {
            "text/plain": [
              "<Figure size 432x288 with 1 Axes>"
            ],
            "image/png": "[encoded data removed]"
          },
          "metadata": {
            "needs_background": "light"
          }
        }
      ]
    },
    {
      "cell_type": "code",
      "source": [
        "# new customers\n",
        "data = { '2016':145062, '2017':229028}\n",
        "Year = list(data.keys())\n",
        "Values = list(data.values())\n",
        "  \n",
        "fig = plt.figure(figsize = (5, 5))\n",
        " \n",
        "# creating the bar plot\n",
        "plt.bar(Year, Values, color ='blue',\n",
        "        width = 0.2)\n",
        " \n",
        "plt.xlabel(\"New Customers per Year\")\n",
        "plt.ylabel(\"Customers\")\n",
        "plt.title(\"Year\")\n",
        "plt.grid(False)\n",
        "plt.show()"
      ],
      "metadata": {
        "colab": {
          "base_uri": "https://localhost:8080/",
          "height": 350
        },
        "id": "Ltow2QmmxNsx",
        "outputId": "a476ca4e-1f86-4753-fe1f-681dfee0de30"
      },
      "execution_count": 107,
      "outputs": [
        {
          "output_type": "display_data",
          "data": {
            "text/plain": [
              "<Figure size 360x360 with 1 Axes>"
            ],
            "image/png": "[encoded data removed]"
          },
          "metadata": {
            "needs_background": "light"
          }
        }
      ]
    },
    {
      "cell_type": "markdown",
      "source": [
        "***Conclusion:***\n",
        "\n",
        "* As we observe from the total customer plot there is a loss of customers in 2015 which is followed by a loss in total revenue but in 2017 there is a recovery in both customers and revenue.\n"
      ],
      "metadata": {
        "id": "UFFqjun9wn5T"
      }
    },
    {
      "cell_type": "code",
      "source": [],
      "metadata": {
        "id": "ZIUbO3MsvAT8"
      },
      "execution_count": 107,
      "outputs": []
    }
  ]
}